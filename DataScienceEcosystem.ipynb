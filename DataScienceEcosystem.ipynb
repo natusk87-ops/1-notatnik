{
 "cells": [
  {
   "cell_type": "markdown",
   "id": "ca734e30-0fed-446a-9249-243483ef6f61",
   "metadata": {},
   "source": [
    "# Data Science Ecosystem"
   ]
  },
  {
   "cell_type": "markdown",
   "id": "4009dfe6-85f4-44bf-9066-a90bdf3189f0",
   "metadata": {},
   "source": [
    "**In this notebook, Data Science Tools and Ecosystem are summarized.**"
   ]
  },
  {
   "cell_type": "markdown",
   "id": "a834012d-b77b-41d7-9f49-1fa050d84be1",
   "metadata": {},
   "source": [
    "### **Objectives:**\n",
    "1. List popular languages for data Science\n",
    "   - Python\n",
    "   - R\n",
    "   - SQL\n",
    "2. List popular libraries for Data Science\n",
    "   - Pandas\n",
    "   - NymPy\n",
    "   - Matlplotlib\n",
    "3. List popular tools for data Science:\n",
    "   - MySQL\n",
    "   - MongoDB\n",
    "   - Ceph\n",
    "\n",
    "\n"
   ]
  },
  {
   "cell_type": "markdown",
   "id": "317c574a-5f82-4798-8382-76c320ece72e",
   "metadata": {},
   "source": [
    "### Some of the popular languages that Data Scientists use are:\n",
    "- Python\n",
    "- R\n",
    "- SQL"
   ]
  },
  {
   "cell_type": "markdown",
   "id": "548d6005-213e-4bd6-a607-2d1a9bcc5502",
   "metadata": {},
   "source": [
    "### Some of the commonly used libraries used by Data Scientists include:\n",
    "* Pandas\n",
    "* NumPy\n",
    "* Matplotlib"
   ]
  },
  {
   "cell_type": "markdown",
   "id": "b9b2b0dc-0633-4ea5-8bd2-93bf925d5d39",
   "metadata": {},
   "source": [
    "| Data Science Tools |\n",
    "| ----------------- |\n",
    "| MySQL |\n",
    "| MongoDB |\n",
    "| Ceph |"
   ]
  },
  {
   "cell_type": "markdown",
   "id": "4baba6f0-7ae5-4930-b023-52e9a99fafde",
   "metadata": {},
   "source": [
    "### Below are a few examples of evaluating arithmetic expressions in Python\n",
    "#### 1+1\n",
    "#### 2*5\n",
    "#### 9-4"
   ]
  },
  {
   "cell_type": "code",
   "execution_count": null,
   "id": "b58feeca-986e-4da6-a0fd-633c85ec79e9",
   "metadata": {},
   "outputs": [],
   "source": [
    "# This is a simple arithmetic expression to multiply then add integers\n",
    "result = (3 * 4) + 5\n",
    "print(result)"
   ]
  },
  {
   "cell_type": "code",
   "execution_count": 8,
   "id": "cfcfa150-8724-4253-88e5-9b4499d50aee",
   "metadata": {},
   "outputs": [
    {
     "name": "stdout",
     "output_type": "stream",
     "text": [
      "3.3333333333333335\n"
     ]
    }
   ],
   "source": [
    "# This will convert 200 minutes to hours by diving by 60\n",
    "result = 200 / 60\n",
    "print(result)"
   ]
  },
  {
   "cell_type": "markdown",
   "id": "9883bc2a-bfbc-421a-8ab8-2539c206c245",
   "metadata": {},
   "source": [
    "## Author\n",
    "Natalia Janasiak"
   ]
  }
 ],
 "metadata": {
  "kernelspec": {
   "display_name": "Python 3 (ipykernel)",
   "language": "python",
   "name": "python3"
  },
  "language_info": {
   "codemirror_mode": {
    "name": "ipython",
    "version": 3
   },
   "file_extension": ".py",
   "mimetype": "text/x-python",
   "name": "python",
   "nbconvert_exporter": "python",
   "pygments_lexer": "ipython3",
   "version": "3.12.8"
  }
 },
 "nbformat": 4,
 "nbformat_minor": 5
}
